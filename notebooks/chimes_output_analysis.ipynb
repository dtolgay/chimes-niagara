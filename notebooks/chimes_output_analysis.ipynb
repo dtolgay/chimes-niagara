{
 "cells": [
  {
   "cell_type": "code",
   "execution_count": 1,
   "id": "7555e9c3",
   "metadata": {},
   "outputs": [],
   "source": [
    "import sys\n",
    "sys.path.append(\"/scratch/m/murray/dtolgay/\")\n",
    "from tools import functions_readfiles as readfiles # type: ignore\n",
    "from tools import constants # type: ignore\n",
    "\n",
    "import numpy as np\n",
    "import pandas as pd \n",
    "\n",
    "import h5py # type: ignore\n",
    "\n",
    "import matplotlib.pyplot as plt # type: ignore"
   ]
  },
  {
   "cell_type": "code",
   "execution_count": 2,
   "id": "42901995",
   "metadata": {},
   "outputs": [],
   "source": [
    "def read_gas_particles_from_hdf5(file_path: str) -> pd.DataFrame:\n",
    "    \n",
    "    with h5py.File(file_path, 'r') as f:\n",
    "        part_group = f['PartType0']\n",
    "\n",
    "        # Load vector quantities\n",
    "        p = part_group['p'][:]   # shape (N, 3)\n",
    "        v = part_group['v'][:]\n",
    "\n",
    "        # Load scalar quantities\n",
    "        m = part_group['m'][:]\n",
    "        rho = part_group['rho'][:]\n",
    "        h = part_group['h'][:]\n",
    "        sfr = part_group['sfr'][:]\n",
    "        u = part_group['u'][:]\n",
    "        T = part_group['T'][:]\n",
    "        hden = part_group['hden'][:]\n",
    "        isrf = part_group['isrf_skirt'][:] \n",
    "        z = part_group['z'][:]          # shape (N, 11)\n",
    "\n",
    "    # Build dataframe\n",
    "    df = pd.DataFrame({\n",
    "        'x': p[:, 0],\n",
    "        'y': p[:, 1],\n",
    "        'z': p[:, 2],\n",
    "        'vx': v[:, 0],\n",
    "        'vy': v[:, 1],\n",
    "        'vz': v[:, 2],\n",
    "        'mass': m,\n",
    "        'density': rho,\n",
    "        'smoothing_length': h,\n",
    "        'star_formation_rate': sfr,\n",
    "        'internal_energy': u,\n",
    "        'temperature': T,\n",
    "        'hden': hden,\n",
    "        'isrf': isrf,\n",
    "        'metallicity': z[:, 0],\n",
    "        'He_mass_fraction': z[:, 1],\n",
    "        'C_mass_fraction': z[:, 2],\n",
    "        'N_mass_fraction': z[:, 3],\n",
    "        'O_mass_fraction': z[:, 4],\n",
    "        'Ne_mass_fraction': z[:, 5],\n",
    "        'Mg_mass_fraction': z[:, 6],\n",
    "        'Si_mass_fraction': z[:, 7],\n",
    "        'S_mass_fraction': z[:, 8],\n",
    "        'Ca_mass_fraction': z[:, 9],\n",
    "        'Fe_mass_fraction': z[:, 10],\n",
    "    })\n",
    "\n",
    "    return df\n",
    "\n",
    "\n",
    "def combine_chimes_hdf5_files(path_to_chimes_file: str, gas_particles_before_chimes: pd.DataFrame) -> pd.DataFrame:\n",
    "\n",
    "    with h5py.File(path_to_chimes_file, 'r') as f:\n",
    "        after_chimes = f['EqmChemistryAbundances'][:]  # Load the dataset into a NumPy array\n",
    "\n",
    "    chimes = gas_particles_before_chimes.copy()\n",
    "\n",
    "    nco_over_nh = after_chimes[:, 148]  # Get all rows of column 148\n",
    "    nh2_over_nh = after_chimes[:, 137]  # Get all rows of column 137\n",
    "\n",
    "    # Calculate the mass fraction of H2 and CO\n",
    "    chimes['fCO'] = nco_over_nh * constants.mco_molecular_mass \n",
    "    chimes['fH2'] = nh2_over_nh * constants.mh2_molecular_mass\n",
    "\n",
    "    # Determine the volume of each particle\n",
    "    chimes['volume'] = chimes['mass'] / (chimes['density'] * constants.gr2M_sun) # cm3\n",
    "\n",
    "    # Calculate the number density of H2 and CO\n",
    "    chimes['density_h2'] = chimes['density'] / constants.mu_h  * chimes['fH2'] # gr/cm3\n",
    "    chimes['density_co'] = chimes['density'] / constants.mu_h  * chimes['fCO'] # gr/cm3\n",
    "\n",
    "    # Calculate the mass of H2 and CO \n",
    "    chimes['mass_h2'] = chimes['density_h2'] * chimes['volume'] # gr\n",
    "    chimes['mass_co'] = chimes['density_co'] * chimes['volume'] # gr\n",
    "\n",
    "    return chimes "
   ]
  },
  {
   "cell_type": "code",
   "execution_count": 3,
   "id": "c7a7b6ed",
   "metadata": {},
   "outputs": [],
   "source": [
    "galaxy_name = \"gal0\"\n",
    "galaxy_type = \"firebox\"\n",
    "redshift = \"0.0\"\n",
    "directory_name = \"voronoi_1e6\"\n",
    "base_fdir = \"/scratch/m/murray/dtolgay/post_processing_fire_outputs/chimes/hdf5_files\""
   ]
  },
  {
   "cell_type": "code",
   "execution_count": 10,
   "id": "42d2ac39",
   "metadata": {},
   "outputs": [
    {
     "name": "stdout",
     "output_type": "stream",
     "text": [
      "Before chimes file path: /scratch/m/murray/dtolgay/post_processing_fire_outputs/chimes/hdf5_files/firebox/z0.0/gal0/gal0.hdf5\n"
     ]
    }
   ],
   "source": [
    "# Read the hdf5 file \n",
    "hdf5_file_path = f\"{base_fdir}/{galaxy_type}/z{redshift}/{galaxy_name}/{galaxy_name}.hdf5\"\n",
    "print(f\"Before chimes file path: {hdf5_file_path}\")\n",
    "before_chimes = read_gas_particles_from_hdf5(file_path = hdf5_file_path)\n",
    "\n",
    "path_to_chimes_file = f\"{base_fdir}/{galaxy_type}/z{redshift}/{galaxy_name}/gal0_chimes_B87x1.hdf5\"\n",
    "chimes_B87x1 = combine_chimes_hdf5_files(path_to_chimes_file=path_to_chimes_file, gas_particles_before_chimes=before_chimes.copy())\n",
    "\n",
    "path_to_chimes_file = f\"{base_fdir}/{galaxy_type}/z{redshift}/{galaxy_name}/gal0_chimes_B87x0.1.hdf5\"\n",
    "chimes_B87x01 = combine_chimes_hdf5_files(path_to_chimes_file=path_to_chimes_file, gas_particles_before_chimes=before_chimes.copy())\n",
    "\n",
    "path_to_chimes_file = f\"{base_fdir}/{galaxy_type}/z{redshift}/{galaxy_name}/gal0_chimes_B87x0.5.hdf5\"\n",
    "chimes_B87x05 = combine_chimes_hdf5_files(path_to_chimes_file=path_to_chimes_file, gas_particles_before_chimes=before_chimes.copy())"
   ]
  },
  {
   "cell_type": "code",
   "execution_count": 7,
   "id": "0a95ac55",
   "metadata": {},
   "outputs": [],
   "source": [
    "# Read the gas particles \n",
    "\n",
    "base_dir = \"/scratch/m/murray/dtolgay/post_processing_fire_outputs/skirt/runs_hden_radius\"\n",
    "file_name = \"abundance_RBFInterpolator_smoothingLength.txt\"\n",
    "fdir = f'{base_dir}/{galaxy_type}/z{redshift}/{galaxy_name}/{directory_name}/{file_name}'\n",
    "\n",
    "cloudy, file_specific_columns = readfiles.read_interpolated_files_usingFilePath(path = fdir, interpolation_type=\"abundance\")\n",
    "\n",
    "# Calculate mass densities\n",
    "cloudy['density_h2'] = cloudy['density'] / constants.mu_h  * cloudy['fh2'] # gr/cm3\n",
    "cloudy['density_co'] = cloudy['density'] / constants.mu_h  * cloudy['fCO'] # gr/cm3\n",
    "\n",
    "# calcuulate the mass \n",
    "cloudy['volume'] = cloudy['mass'] / (cloudy['density'] * constants.gr2M_sun) # cm3\n",
    "cloudy['mass_h2'] = cloudy['density_h2'] * cloudy['volume'] # gr\n",
    "cloudy['mass_co'] = cloudy['density_co'] * cloudy['volume'] # gr\n"
   ]
  },
  {
   "cell_type": "code",
   "execution_count": null,
   "id": "5a2bc61e",
   "metadata": {},
   "outputs": [],
   "source": [
    "# plt.figure()\n",
    "# plt.hist(np.log10(cloudy['density']), bins=100, color='blue', alpha=1, label='density')\n",
    "# plt.hist(np.log10(chimes_B87x1['density']), bins=100, color='red', alpha=0.5, label='density chimes')\n",
    "# plt.plot()\n",
    "\n",
    "# plt.figure()\n",
    "# plt.hist(np.log10(cloudy['mass']), bins=100, color='blue', alpha=1, label='density')\n",
    "# plt.hist(np.log10(chimes_B87x1['mass']), bins=100, color='red', alpha=0.5, label='density chimes')\n",
    "# plt.plot()\n",
    "\n",
    "# print(\"cloudy: \", np.mean(cloudy['volume']), np.std(cloudy['volume']))\n",
    "\n",
    "# # Calculating the volume of the hdf5 files \n",
    "# cloudy['volume'] = cloudy['mass'] / (cloudy['density'] * constants.gr2M_sun) # cm3\n",
    "# chimes_B87x1['volume'] = chimes_B87x1['mass'] / (chimes_B87x1['density'] * constants.gr2M_sun) # cm3\n",
    "\n",
    "\n",
    "# plt.figure()\n",
    "# plt.hist(np.log10(cloudy['volume']), bins=100, color='blue', alpha=1, label='density')\n",
    "# plt.hist(np.log10(chimes_B87x1['volume']), bins=100, color='red', alpha=0.5, label='density chimes')\n",
    "# plt.plot()\n",
    "\n",
    "# print(\"chimes: \", np.mean(chimes_B87x1['volume']), np.std(chimes_B87x1['volume']))"
   ]
  },
  {
   "cell_type": "code",
   "execution_count": 11,
   "id": "d156147e",
   "metadata": {},
   "outputs": [
    {
     "name": "stdout",
     "output_type": "stream",
     "text": [
      "cloudy: 5.427188498908668e+40\n",
      "chimes_B87x1: 1.5939162366081691e+41\n",
      "chimes_B87x0.5: 1.5939750455128416e+41\n",
      "chimes_B87x0.1: 1.5939522612781306e+41\n"
     ]
    }
   ],
   "source": [
    "print(f\"cloudy: {sum(cloudy['mass_co'])}\")\n",
    "print(f\"chimes_B87x1: {sum(chimes_B87x1['mass_co'])}\")\n",
    "print(f\"chimes_B87x0.5: {sum(chimes_B87x05['mass_co'])}\")\n",
    "print(f\"chimes_B87x0.1: {sum(chimes_B87x01['mass_co'])}\")\n"
   ]
  },
  {
   "cell_type": "code",
   "execution_count": 13,
   "id": "bee72a72",
   "metadata": {},
   "outputs": [
    {
     "name": "stderr",
     "output_type": "stream",
     "text": [
      "/gpfs/fs0/scratch/m/murray/dtolgay/post_processing_fire_outputs/chimes/.venv/lib/python3.11/site-packages/pandas/core/arraylike.py:399: RuntimeWarning: divide by zero encountered in log10\n",
      "  result = getattr(ufunc, method)(*inputs, **kwargs)\n"
     ]
    },
    {
     "data": {
      "image/png": "[encoded data removed]",
      "text/plain": [
       "<Figure size 640x480 with 1 Axes>"
      ]
     },
     "metadata": {},
     "output_type": "display_data"
    }
   ],
   "source": [
    "bins = np.linspace(-7, 0, num=100)\n",
    "plt.hist(np.log10(chimes_B87x1['fCO']), bins=bins, label=\"chimes_B87x1\")\n",
    "plt.hist(np.log10(chimes_B87x05['fCO']), bins=bins, label=\"chimes_B87x0.5\")\n",
    "plt.hist(np.log10(chimes_B87x01['fCO']), bins=bins, alpha=0.5, label=\"chimes_B87x0.1\")\n",
    "plt.hist(np.log10(cloudy['fCO']), bins=bins, alpha=0.5, label=\"cloudy\")\n",
    "plt.legend()\n",
    "plt.xlabel(\"mass ratio of co/h\")\n",
    "plt.show()"
   ]
  },
  {
   "cell_type": "markdown",
   "id": "39a2fae7",
   "metadata": {},
   "source": [
    "# Compare the other properties of hdf5 file and interpolated file "
   ]
  },
  {
   "cell_type": "code",
   "execution_count": null,
   "id": "591940bf",
   "metadata": {
    "scrolled": false
   },
   "outputs": [],
   "source": [
    "# Histogram plots of the centers \n",
    "centers = {\n",
    "    # \"metallicity\": {\n",
    "    #     \"min\": -4.0,\n",
    "    #     \"max\": 1,\n",
    "    #     \"ratio\": 10**(1.48)\n",
    "    # },\n",
    "    # \"hden\": {\n",
    "    #     \"min\": -4.0,\n",
    "    #     \"max\": 4.0,\n",
    "    #     \"ratio\": 10**(0.55)                        \n",
    "    # },\n",
    "    # \"isrf\": {\n",
    "    #     \"min\": -4.0,\n",
    "    #     \"max\": 4.0,\n",
    "    #     \"ratio\": 10**(-1.73)        \n",
    "    # },\n",
    "    # \"smoothing_length\": {\n",
    "    #     \"min\": 0.8,\n",
    "    #     \"max\": 3.5\n",
    "    # },\n",
    "    \"density\": {\n",
    "        \"min\": -27.0,\n",
    "        \"max\": -19.7,\n",
    "        \"ratio\": 10**(0.65)                \n",
    "    },\n",
    "    \"volume\": {\n",
    "        \"min\": 59, \n",
    "        \"max\": 65,\n",
    "    },\n",
    "    \"mass\": {\n",
    "        \"min\": 4,\n",
    "        \"max\": 5.3,\n",
    "    }\n",
    "}\n",
    "\n",
    "\n",
    "for column in centers.keys(): \n",
    "    plt.figure()\n",
    "\n",
    "    bins = np.linspace(start=centers[column]['min'], stop=centers[column]['max'], num=200)\n",
    "\n",
    "    plt.hist(np.log10(cloudy[column]), label=\"cloudy\", bins=bins, alpha=1)\n",
    "    plt.hist(np.log10(chimes_B87x1[column]), label=\"chimes_B87x1\", bins=bins, alpha=0.5)\n",
    "    plt.hist(np.log10(chimes_B87x01[column]), label=\"chimes_B87x0.1\", bins=bins, alpha=0.5)\n",
    "    plt.legend()\n",
    "    plt.xlabel(f\"log10({column})\")\n",
    "\n",
    "        \n",
    "    plt.show()"
   ]
  }
 ],
 "metadata": {
  "kernelspec": {
   "display_name": "Python 3 (ipykernel)",
   "language": "python",
   "name": "python3"
  },
  "language_info": {
   "codemirror_mode": {
    "name": "ipython",
    "version": 3
   },
   "file_extension": ".py",
   "mimetype": "text/x-python",
   "name": "python",
   "nbconvert_exporter": "python",
   "pygments_lexer": "ipython3",
   "version": "3.11.5"
  }
 },
 "nbformat": 4,
 "nbformat_minor": 5
}
